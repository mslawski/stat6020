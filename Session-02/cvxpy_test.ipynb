{
 "cells": [
  {
   "cell_type": "code",
   "execution_count": 10,
   "id": "b1f450e8-e91d-4c73-9164-a55ab04697ce",
   "metadata": {},
   "outputs": [],
   "source": [
    "import cvxpy as cp\n",
    "import numpy as np"
   ]
  },
  {
   "cell_type": "code",
   "execution_count": 11,
   "id": "3b1579a4-8c24-462f-a827-25f3559e5919",
   "metadata": {},
   "outputs": [],
   "source": [
    "a = cp.Variable(5)\n",
    "obj = cp.sum(-cp.log(a))\n",
    "constr = [cp.sum(a) == 5]"
   ]
  },
  {
   "cell_type": "code",
   "execution_count": 12,
   "id": "e02f618d-1b8d-4ea0-8fc1-333969226c81",
   "metadata": {},
   "outputs": [
    {
     "data": {
      "text/plain": [
       "array([1.00000201, 1.00000201, 1.00000201, 0.99999788, 0.99999607])"
      ]
     },
     "execution_count": 12,
     "metadata": {},
     "output_type": "execute_result"
    }
   ],
   "source": [
    "problem = cp.Problem(cp.Minimize(obj), constr)\n",
    "problem.solve()\n",
    "a.value"
   ]
  },
  {
   "cell_type": "code",
   "execution_count": null,
   "id": "dff5472e-1f9e-4bef-84a5-0f9b02630b48",
   "metadata": {},
   "outputs": [],
   "source": []
  },
  {
   "cell_type": "code",
   "execution_count": null,
   "id": "4128f013-2dae-496b-ab96-6f194c8bf670",
   "metadata": {},
   "outputs": [],
   "source": []
  }
 ],
 "metadata": {
  "kernelspec": {
   "display_name": "Python 3 (ipykernel)",
   "language": "python",
   "name": "python3"
  },
  "language_info": {
   "codemirror_mode": {
    "name": "ipython",
    "version": 3
   },
   "file_extension": ".py",
   "mimetype": "text/x-python",
   "name": "python",
   "nbconvert_exporter": "python",
   "pygments_lexer": "ipython3",
   "version": "3.12.5"
  }
 },
 "nbformat": 4,
 "nbformat_minor": 5
}
